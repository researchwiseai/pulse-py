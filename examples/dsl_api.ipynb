{
 "cells": [
  {
   "cell_type": "markdown",
   "metadata": {},
   "source": [
    "# DSL API Example", 
    "This notebook demonstrates the new DSL workflow builder in the Pulse client."
   ]
  },
  {
   "cell_type": "code",
   "execution_count": null,
   "metadata": {},
   "outputs": [],
   "source": [
    "from pulse_client.dsl import Workflow\n",
    "from pulse_client.core.client import CoreClient\n",
    "# Build a DSL workflow pipeline\n",
    "wf = (\n",
    "    Workflow()\n",
    "    .theme_generation(min_themes=3, max_themes=5, fast=True)\n",
    "    .theme_allocation(threshold=0.7)\n",
    "    .theme_extraction()\n",
    "    .sentiment(fast=True)\n",
    "    .cluster(k=3)\n",
    ")\n",
    "# Visualize the workflow DAG\n",
    "wf.graph()"
   ]
  },
  {
   "cell_type": "code",
   "execution_count": null,
   "metadata": {},
   "outputs": [],
   "source": [
    "# Execute the workflow on sample texts\n",
    "texts = [\n",
    "    'I love this product!',\n",
    "    'The experience was okay.',\n",
    "    'Worst service ever.'\n",
    "]\n",
    "# Initialize client (configure credentials as needed)\n",
    "client = CoreClient()  # or provide auth=...\n",
    "results = wf.run(texts, client=client)\n"
   ]
  },
  {
   "cell_type": "code",
   "execution_count": null,
   "metadata": {},
   "outputs": [],
   "source": [
    "# Inspect theme generation results\n",
    "results.theme_generation.to_dataframe()"
   ]
  },
  {
   "cell_type": "code",
   "execution_count": null,
   "metadata": {},
   "outputs": [],
   "source": [
    "# Inspect theme extraction results\n",
    "results.theme_extraction.to_dataframe()"
   ]
  },
  {
   "cell_type": "code",
   "execution_count": null,
   "metadata": {},
   "outputs": [],
   "source": [
    "# Sentiment summary\n",
    "results.sentiment.summary()"
   ]
  },
  {
   "cell_type": "code",
   "execution_count": null,
   "metadata": {},
   "outputs": [],
   "source": [
    "# Cluster labels (KMeans)\n",
    "results.cluster.kmeans(n_clusters=3)"
   ]
  }
 ],
 "metadata": {
  "kernelspec": {
   "display_name": "Python 3",
   "language": "python",
   "name": "python3"
  },
  "language_info": {
   "name": "python",
   "version": "3.12"
  }
 },
 "nbformat": 4,
 "nbformat_minor": 5
}