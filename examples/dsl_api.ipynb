{
 "cells": [
  {
   "cell_type": "markdown",
   "metadata": {},
   "source": [
    "# DSL API Example",
    "This notebook demonstrates the **advanced** DSL workflow builder in the Pulse client,",
    "including named data sources and explicit wiring of process inputs."
   ]
  },
  {
   "cell_type": "code",
   "execution_count": null,
   "metadata": {},
   "outputs": [],
   "source": [
    "!pip install pulse-sdk"
   ]
  },
  {
   "cell_type": "code",
   "execution_count": null,
   "metadata": {},
   "outputs": [],
   "source": [
    "from pulse.dsl import Workflow\n",
    "from pulse.core.client import CoreClient\n",
    "\n",
    "# Sample data\n",
    "comments = [\"I love this product!\", \"The experience was okay.\", \"Worst service ever.\"]\n",
    "existing_themes = [\"love\", \"experience\", \"service\"]"
   ]
  },
  {
   "cell_type": "code",
   "execution_count": null,
   "metadata": {},
   "outputs": [],
   "source": [
    "# Build a DSL workflow with sources and explicit wiring\n",
    "wf = (\n",
    "    Workflow()\n",
    "    .source(\"comments\", comments)\n",
    "    .source(\"themes\", existing_themes)\n",
    "    .theme_generation(min_themes=3, max_themes=5, fast=True, source=\"comments\")\n",
    "    .theme_allocation(inputs=\"comments\", themes_from=\"theme_generation\")\n",
    "    .theme_extraction(inputs=\"comments\", themes_from=\"theme_generation\")\n",
    "    .sentiment(source=\"comments\", fast=True)\n",
    "    .sentiment(source=\"theme_extraction\", fast=True)\n",
    "    .cluster(source=\"comments\", fast=True)\n",
    ")"
   ]
  },
  {
   "cell_type": "code",
   "execution_count": null,
   "metadata": {},
   "outputs": [],
   "source": [
    "# Visualize the workflow DAG\n",
    "wf.graph()"
   ]
  },
  {
   "cell_type": "code",
   "execution_count": null,
   "metadata": {},
   "outputs": [],
   "source": [
    "# Execute the DSL workflow\n",
    "client = CoreClient()  # configure credentials if needed\n",
    "results = wf.run(client=client)"
   ]
  },
  {
   "cell_type": "code",
   "execution_count": null,
   "metadata": {},
   "outputs": [],
   "source": [
    "# Inspect theme generation results\n",
    "df_gen = results.theme_generation.to_dataframe()\n",
    "df_gen"
   ]
  },
  {
   "cell_type": "code",
   "execution_count": null,
   "metadata": {},
   "outputs": [],
   "source": [
    "# Theme allocation assignments\n",
    "alloc = results.theme_allocation\n",
    "alloc_df = alloc.assign_single()\n",
    "alloc_df"
   ]
  },
  {
   "cell_type": "code",
   "execution_count": null,
   "metadata": {},
   "outputs": [],
   "source": [
    "# Theme extraction outputs\n",
    "df_extr = results.theme_extraction.to_dataframe()\n",
    "df_extr"
   ]
  },
  {
   "cell_type": "code",
   "execution_count": null,
   "metadata": {},
   "outputs": [],
   "source": [
    "# Sentiment on original comments\n",
    "results.sentiment.summary()"
   ]
  },
  {
   "cell_type": "code",
   "execution_count": null,
   "metadata": {},
   "outputs": [],
   "source": [
    "# Cluster labels on comments\n",
    "results.cluster.kmeans(n_clusters=2)"
   ]
  }
 ],
 "metadata": {
  "kernelspec": {
   "display_name": "Python 3",
   "language": "python",
   "name": "python3"
  },
  "language_info": {
   "name": "python",
   "version": "3.12"
  }
 },
 "nbformat": 4,
 "nbformat_minor": 5
}
