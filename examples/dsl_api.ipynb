{
 "cells": [
  {
   "cell_type": "markdown",
   "metadata": {},
   "source": [
    "# DSL API Example",
    "This notebook demonstrates the **advanced** DSL workflow builder in the Pulse client,",
    "including named data sources and explicit wiring of process inputs."
   ]
  },
  {
   "cell_type": "code",
   "execution_count": null,
   "metadata": {},
   "outputs": [],
   "source": [
    "from pulse_client.dsl import Workflow\n",
    "from pulse_client.core.client import CoreClient\n",
    "# Sample data\n",
    "comments = [\n",
    "    'I love this product!',\n",
    "    'The experience was okay.',\n",
    "    'Worst service ever.'\n",
    "]\n",
    "existing_themes = ['love', 'experience', 'service']\n"
   ]
  },
  {
   "cell_type": "code",
   "execution_count": null,
   "metadata": {},
   "outputs": [],
   "source": [
    "# Build a DSL workflow with sources and explicit wiring\n",
    "wf = (\n",
    "    Workflow()\n",
    "    .source('comments', comments)\n",
    "    .source('themes', existing_themes)\n",
    "    .theme_generation(min_themes=3, max_themes=5, fast=True, source='comments')\n",
    "    .theme_allocation(inputs='comments', themes_from='theme_generation')\n",
    "    .theme_extraction(inputs='comments', themes_from='theme_generation')\n",
    "    .sentiment(source='comments', fast=True)\n",
    "    .sentiment(source='theme_extraction', fast=True)\n",
    "    .cluster(source='comments', fast=True)\n",
    ")\n"
   ]
  },
  {
   "cell_type": "code",
   "execution_count": null,
   "metadata": {},
   "outputs": [],
   "source": [
    "# Visualize the workflow DAG\n",
    "wf.graph()\n"
   ]
  },
  {
   "cell_type": "code",
   "execution_count": null,
   "metadata": {},
   "outputs": [],
   "source": [
    "# Execute the DSL workflow\n",
    "client = CoreClient()  # configure credentials if needed\n",
    "results = wf.run(client=client)\n"
   ]
  },
  {
   "cell_type": "code",
   "execution_count": null,
   "metadata": {},
   "outputs": [],
   "source": [
    "# Inspect theme generation results\n",
    "df_gen = results.theme_generation.to_dataframe()\n",
    "df_gen\n"
   ]
  },
  {
   "cell_type": "code",
   "execution_count": null,
   "metadata": {},
   "outputs": [],
   "source": [
    "# Theme allocation assignments\n",
    "alloc = results.theme_allocation\n",
    "alloc_df = alloc.assign_single()\n",
    "alloc_df\n"
   ]
  },
  {
   "cell_type": "code",
   "execution_count": null,
   "metadata": {},
   "outputs": [],
   "source": [
    "# Theme extraction outputs\n",
    "df_extr = results.theme_extraction.to_dataframe()\n",
    "df_extr\n"
   ]
  },
  {
   "cell_type": "code",
   "execution_count": null,
   "metadata": {},
   "outputs": [],
   "source": [
    "# Sentiment on original comments\n",
    "results.sentiment.summary()\n"
   ]
  },
  {
   "cell_type": "code",
   "execution_count": null,
   "metadata": {},
   "outputs": [],
   "source": [
    "# Cluster labels on comments\n",
    "results.cluster.kmeans(n_clusters=2)\n"
   ]
  }
 ],
 "metadata": {
  "kernelspec": {
   "display_name": "Python 3",
   "language": "python",
   "name": "python3"
  },
  "language_info": {
   "name": "python",
   "version": "3.12"
  }
 },
 "nbformat": 4,
 "nbformat_minor": 5
}