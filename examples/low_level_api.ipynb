{
 "cells": [
  {
   "cell_type": "markdown",
   "metadata": {},
   "source": [
    "# Pulse Client Low-Level API Examples\n",
    "\n",
    "Demonstrates using `CoreClient` to call the Pulse API endpoints in both fast (synchronous) and slow (job-based) modes.\n"
   ]
  },
  {
   "cell_type": "code",
   "execution_count": null,
   "metadata": {},
   "outputs": [],
   "source": [
    "!pip install pulse-sdk"
   ]
  },
  {
   "cell_type": "code",
   "execution_count": null,
   "metadata": {},
   "outputs": [],
   "source": [
    "from pulse_client.core.client import CoreClient\n",
    "from pulse_client.core.jobs import Job\n",
    "import json\n",
    "\n",
    "client = CoreClient()\n",
    "\n",
    "# 1. Embeddings - synchronous\n",
    "resp = client.create_embeddings([\"Hello world\", \"Test input\"], fast=True)\n",
    "print(\"EmbeddingsResponse:\", json.dumps(resp.model_dump(), indent=2))\n",
    "\n",
    "# 2. Embeddings - asynchronous\n",
    "job = client.create_embeddings([\"Hello world\", \"Test input\"], fast=False)\n",
    "print(\"Job ID:\", job.id, \"Status:\", job.status)\n",
    "print(\"Embeddings result:\", json.dumps(job.wait(), indent=2))\n",
    "\n",
    "# 3. Similarity - synchronous\n",
    "resp = client.compare_similarity([\"alpha\", \"beta\", \"gamma\"], fast=True, flatten=False)\n",
    "print(\"SimilarityResponse:\", json.dumps(resp.model_dump(), indent=2))\n",
    "\n",
    "# 4. Similarity - asynchronous\n",
    "job = client.compare_similarity([\"apple\", \"banana\"], fast=False, flatten=True)\n",
    "print(\"Job ID:\", job.id, \"Status:\", job.status)\n",
    "print(\"Similarity result:\", json.dumps(job.wait(), indent=2))\n",
    "\n",
    "# 5. Themes - synchronous\n",
    "resp = client.generate_themes(\n",
    "    [\"fast service\", \"easy setup\"], min_themes=2, max_themes=3, fast=True\n",
    ")\n",
    "print(\"ThemesResponse:\", json.dumps(resp.model_dump(), indent=2))\n",
    "\n",
    "# 6. Themes - asynchronous\n",
    "job = client.generate_themes([\"issue A\", \"issue B\"], fast=False)\n",
    "print(\"Job ID:\", job.id, \"Status:\", job.status)\n",
    "print(\"Themes result:\", json.dumps(job.wait(), indent=2))\n",
    "\n",
    "# 7. Sentiment - synchronous\n",
    "resp = client.analyze_sentiment([\"I love it\", \"I hate it\"], fast=True)\n",
    "print(\"SentimentResponse:\", json.dumps(resp.model_dump(), indent=2))\n",
    "\n",
    "# 8. Sentiment - asynchronous\n",
    "job = client.analyze_sentiment([\"Neutral text\"], fast=False)\n",
    "print(\"Job ID:\", job.id, \"Status:\", job.status)\n",
    "print(\"Sentiment result:\", json.dumps(job.wait(), indent=2))\n",
    "\n",
    "# 9. Extractions - synchronous\n",
    "resp = client.extract_elements(\n",
    "    inputs=[\"Food is great and service is slow.\"], themes=[\"food\", \"service\"], fast=True\n",
    ")\n",
    "print(\"ExtractionsResponse:\", json.dumps(resp.model_dump(), indent=2))\n",
    "\n",
    "# 10. Extractions - asynchronous\n",
    "job = client.extract_elements(inputs=[\"Test text\"], themes=[\"test\"], fast=False)\n",
    "print(\"Job ID:\", job.id, \"Status:\", job.status)\n",
    "print(\"Extraction result:\", json.dumps(job.wait(), indent=2))"
   ]
  }
 ],
 "metadata": {
  "kernelspec": {
   "display_name": "Python 3",
   "language": "python",
   "name": "python3"
  },
  "language_info": {
   "name": "python"
  }
 },
 "nbformat": 4,
 "nbformat_minor": 5
}
