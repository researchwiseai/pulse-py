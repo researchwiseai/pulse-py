{
 "cells": [
  {
   "cell_type": "markdown",
   "metadata": {},
   "source": [
    "# Pulse Client Low-Level API Examples\n",
    "\n",
    "Demonstrates using `CoreClient` to call the Pulse API endpoints in both fast (synchronous) and slow (job-based) modes.\n"
   ]
  },
  {
   "cell_type": "code",
   "execution_count": 1,
   "id": "0605ccd6",
   "metadata": {},
   "outputs": [
    {
     "ename": "PulseAPIError",
     "evalue": "Status code: 400, Detail: Failed to parse schema. This error was caused by: [\n  {\n    \"code\": \"invalid_type\",\n    \"expected\": \"array\",\n    \"received\": \"undefined\",\n    \"path\": [\n      \"body\",\n      \"inputs\"\n    ],\n    \"message\": \"Required\"\n  }\n].",
     "output_type": "error",
     "traceback": [
      "\u001b[31m---------------------------------------------------------------------------\u001b[39m",
      "\u001b[31mPulseAPIError\u001b[39m                             Traceback (most recent call last)",
      "\u001b[36mCell\u001b[39m\u001b[36m \u001b[39m\u001b[32mIn[1]\u001b[39m\u001b[32m, line 30\u001b[39m\n\u001b[32m     27\u001b[39m client = CoreClient()\n\u001b[32m     29\u001b[39m \u001b[38;5;66;03m# 1. Embeddings - synchronous\u001b[39;00m\n\u001b[32m---> \u001b[39m\u001b[32m30\u001b[39m resp = \u001b[43mclient\u001b[49m\u001b[43m.\u001b[49m\u001b[43mcreate_embeddings\u001b[49m\u001b[43m(\u001b[49m\u001b[43mreviews\u001b[49m\u001b[43m,\u001b[49m\u001b[43m \u001b[49m\u001b[43mfast\u001b[49m\u001b[43m=\u001b[49m\u001b[38;5;28;43;01mTrue\u001b[39;49;00m\u001b[43m)\u001b[49m\n\u001b[32m     31\u001b[39m \u001b[38;5;28mprint\u001b[39m(\u001b[33m\"\u001b[39m\u001b[33mEmbeddingsResponse:\u001b[39m\u001b[33m\"\u001b[39m, json.dumps(resp.model_dump(), indent=\u001b[32m2\u001b[39m))\n\u001b[32m     33\u001b[39m \u001b[38;5;66;03m# 2. Embeddings - asynchronous\u001b[39;00m\n",
      "\u001b[36mFile \u001b[39m\u001b[32m~/Documents/Business/wise/repos/pulse-py/.venv/lib/python3.12/site-packages/pulse/core/client.py:48\u001b[39m, in \u001b[36mCoreClient.create_embeddings\u001b[39m\u001b[34m(self, texts, fast)\u001b[39m\n\u001b[32m     46\u001b[39m response = \u001b[38;5;28mself\u001b[39m.client.post(\u001b[33m\"\u001b[39m\u001b[33m/embeddings\u001b[39m\u001b[33m\"\u001b[39m, json={\u001b[33m\"\u001b[39m\u001b[33mtexts\u001b[39m\u001b[33m\"\u001b[39m: texts}, params=params)\n\u001b[32m     47\u001b[39m \u001b[38;5;28;01mif\u001b[39;00m response.status_code \u001b[38;5;129;01mnot\u001b[39;00m \u001b[38;5;129;01min\u001b[39;00m (\u001b[32m200\u001b[39m, \u001b[32m202\u001b[39m):\n\u001b[32m---> \u001b[39m\u001b[32m48\u001b[39m     \u001b[38;5;28;01mraise\u001b[39;00m PulseAPIError(response)\n\u001b[32m     49\u001b[39m data = response.json()\n\u001b[32m     50\u001b[39m \u001b[38;5;28;01mif\u001b[39;00m fast:\n",
      "\u001b[31mPulseAPIError\u001b[39m: Status code: 400, Detail: Failed to parse schema. This error was caused by: [\n  {\n    \"code\": \"invalid_type\",\n    \"expected\": \"array\",\n    \"received\": \"undefined\",\n    \"path\": [\n      \"body\",\n      \"inputs\"\n    ],\n    \"message\": \"Required\"\n  }\n]."
     ]
    }
   ],
   "source": [
    "from pulse.core.client import CoreClient\n",
    "import json\n",
    "\n",
    "reviews = [\n",
    "    \"Had a blast! The rollercoasters were thrilling and the staff were friendly.\",\n",
    "    \"A bit pricey, but the rides were worth it. Great family fun!\",\n",
    "    \"Long lines, but the shows were entertaining. Would come again.\",\n",
    "    \"Disappointing. Many rides were closed, and the food was overpriced.\",\n",
    "    \"Awesome day out! The kids loved the water park.\",\n",
    "    \"The park was clean and well-maintained. A pleasant experience.\",\n",
    "    \"Too crowded, making it difficult to enjoy the rides.\",\n",
    "    \"Excellent customer service. The staff went above and beyond.\",\n",
    "    \"A magical experience! Highly recommend for all ages.\",\n",
    "    \"Not impressed with the variety of rides. Could be better.\",\n",
    "    \"The atmosphere was fantastic. Great music and decorations.\",\n",
    "    \"Spent too much time waiting in line. Needs better queue management.\",\n",
    "    \"My kids had a wonderful time! We'll definitely return.\",\n",
    "    \"The food options were limited and not very tasty.\",\n",
    "    \"A truly unforgettable day at the park. Highly recommended!\",\n",
    "    \"The park was clean and well-kept, but the rides were too short.\",\n",
    "    \"Great value for the money.  Lots of fun for the whole family.\",\n",
    "    \"We had a mixed experience. Some rides were great, others were underwhelming.\",\n",
    "    \"The staff were helpful and courteous.  The park was well-organized.\",\n",
    "    \"The park is beautiful, but the ticket prices are exorbitant.\",\n",
    "]\n",
    "\n",
    "client = CoreClient()\n",
    "\n",
    "# 1. Embeddings - synchronous\n",
    "resp = client.create_embeddings(reviews, fast=True)\n",
    "print(\"EmbeddingsResponse:\", json.dumps(resp.model_dump(), indent=2))\n",
    "\n",
    "# 2. Embeddings - asynchronous\n",
    "resp = client.create_embeddings(reviews, fast=False)\n",
    "print(\"Embeddings result:\", json.dumps(resp.model_dump(), indent=2))\n",
    "\n",
    "# 3. Similarity - synchronous\n",
    "resp = client.compare_similarity(set=reviews, fast=True, flatten=False)\n",
    "print(\"SimilarityResponse:\", json.dumps(resp.model_dump(), indent=2))\n",
    "\n",
    "# 4. Similarity - asynchronous\n",
    "resp = client.compare_similarity(set=reviews, fast=False, flatten=True)\n",
    "print(\"Similarity result:\", json.dumps(resp.model_dump(), indent=2))\n",
    "\n",
    "# 5. Themes - synchronous\n",
    "resp = client.generate_themes(reviews, min_themes=2, max_themes=3, fast=True)\n",
    "print(\"ThemesResponse:\", json.dumps(resp.model_dump(), indent=2))\n",
    "\n",
    "# 6. Themes - asynchronous\n",
    "resp = client.generate_themes(reviews, fast=False)\n",
    "print(\"Themes result:\", json.dumps(resp.model_dump(), indent=2))\n",
    "themes = resp.themes\n",
    "# 7. Sentiment - synchronous\n",
    "resp = client.analyze_sentiment(reviews, fast=True)\n",
    "print(\"SentimentResponse:\", json.dumps(resp.model_dump(), indent=2))\n",
    "\n",
    "# 8. Sentiment - asynchronous\n",
    "resp = client.analyze_sentiment(reviews, fast=False)\n",
    "print(\"Sentiment result:\", json.dumps(resp.model_dump(), indent=2))\n",
    "\n",
    "# 9. Extractions - synchronous\n",
    "resp = client.extract_elements(inputs=reviews, themes=themes, fast=True)\n",
    "print(\"ExtractionsResponse:\", json.dumps(resp.model_dump(), indent=2))\n",
    "\n",
    "# 10. Extractions - asynchronous\n",
    "resp = client.extract_elements(inputs=reviews, themes=themes, fast=False)\n",
    "print(\"Extraction result:\", json.dumps(resp.model_dump(), indent=2))"
   ]
  }
 ],
 "metadata": {
  "kernelspec": {
   "display_name": ".venv",
   "language": "python",
   "name": "python3"
  },
  "language_info": {
   "codemirror_mode": {
    "name": "ipython",
    "version": 3
   },
   "file_extension": ".py",
   "mimetype": "text/x-python",
   "name": "python",
   "nbconvert_exporter": "python",
   "pygments_lexer": "ipython3",
   "version": "3.12.3"
  }
 },
 "nbformat": 4,
 "nbformat_minor": 5
}
