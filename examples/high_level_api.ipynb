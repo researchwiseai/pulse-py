{
 "cells": [
  {
   "cell_type": "markdown",
   "id": "7fb27b941602401d91542211134fc71a",
   "metadata": {},
   "source": [
    "# Pulse Client High-Level API Examples\n",
    "\n",
    "This notebook demonstrates how to use the high-level `Analyzer` interface with built-in `Process` classes to orchestrate complex workflows.\n"
   ]
  },
  {
   "cell_type": "code",
   "execution_count": null,
   "id": "acae54e37e7d407bbb7b55eff062a284",
   "metadata": {},
   "outputs": [],
   "source": [
    "!pip install pulse-sdk"
   ]
  },
  {
   "cell_type": "code",
   "execution_count": null,
   "id": "9a63283cbaf04dbcab1f6479b197f3a8",
   "metadata": {},
   "outputs": [],
   "source": [
    "from pulse.analysis.analyzer import Analyzer\n",
    "from pulse.analysis.processes import (\n",
    "    ThemeGeneration,\n",
    "    ThemeAllocation,\n",
    "    ThemeExtraction,\n",
    "    SentimentProcess,\n",
    "    Cluster,\n",
    ")"
   ]
  },
  {
   "cell_type": "markdown",
   "id": "8dd0d8092fe74a7c96281538738b07e2",
   "metadata": {},
   "source": [
    "## 1. Theme Generation, Allocation, and Extraction\n",
    "Generate themes, allocate them to texts, and extract representative elements.\n"
   ]
  },
  {
   "cell_type": "code",
   "execution_count": null,
   "id": "72eea5119410473aa328ad9291626812",
   "metadata": {},
   "outputs": [],
   "source": [
    "texts = [\n",
    "    \"I love the new interface\",\n",
    "    \"The app crashes on launch\",\n",
    "    \"Customer support was helpful\",\n",
    "    \"Slow performance after update\",\n",
    "]\n",
    "\n",
    "az = Analyzer(\n",
    "    dataset=texts,\n",
    "    processes=[\n",
    "        ThemeGeneration(min_themes=2, max_themes=4),\n",
    "        ThemeAllocation(single_label=False, threshold=0.0),\n",
    "        ThemeExtraction(),\n",
    "    ],\n",
    "    fast=True,\n",
    "    cache_dir=\".pulse_cache\",\n",
    ")\n",
    "\n",
    "res = az.run()\n",
    "print(\"Detected themes:\", res.theme_generation.themes)\n",
    "df_alloc = res.theme_allocation.to_dataframe()\n",
    "display(df_alloc)\n",
    "df_extr = res.theme_extraction.to_dataframe()\n",
    "display(df_extr)"
   ]
  },
  {
   "cell_type": "markdown",
   "id": "8edb47106e1a46a883d545849b8ab81b",
   "metadata": {},
   "source": [
    "## 2. Sentiment Analysis\n",
    "Run sentiment classification as part of the same workflow.\n"
   ]
  },
  {
   "cell_type": "code",
   "execution_count": null,
   "id": "10185d26023b46108eb7d9f57d49d2b3",
   "metadata": {},
   "outputs": [],
   "source": [
    "az2 = Analyzer(\n",
    "    dataset=texts,\n",
    "    processes=[SentimentProcess()],\n",
    "    fast=True,\n",
    ")\n",
    "res2 = az2.run()\n",
    "print(res2.sentiment.summary())\n",
    "display(res2.sentiment.to_dataframe())"
   ]
  },
  {
   "cell_type": "markdown",
   "id": "8763a12b2bbd4a93a75aff182afb95dc",
   "metadata": {},
   "source": [
    "## 3. Clustering with Similarity\n",
    "Compute similarity matrix and explore clustering.\n"
   ]
  },
  {
   "cell_type": "code",
   "execution_count": null,
   "id": "7623eae2785240b9bd12b16a66d81610",
   "metadata": {},
   "outputs": [],
   "source": [
    "az3 = Analyzer(\n",
    "    dataset=texts,\n",
    "    processes=[Cluster(fast=True)],\n",
    "    fast=True,\n",
    ")\n",
    "res3 = az3.run()\n",
    "labels_km = res3.cluster.kmeans(n_clusters=2)\n",
    "print(\"KMeans labels:\", labels_km)\n",
    "ax = res3.cluster.plot_scatter()\n",
    "ax.set_title(\"PCA Scatter of Text Similarity\")"
   ]
  },
  {
   "cell_type": "markdown",
   "id": "7cdc8c89c7104fffa095e18ddfef8986",
   "metadata": {},
   "source": [
    "## 4. Caching Demonstration\n",
    "Re-run the same processes to see cache hits.\n"
   ]
  },
  {
   "cell_type": "code",
   "execution_count": null,
   "id": "b118ea5561624da68c537baed56e602f",
   "metadata": {},
   "outputs": [],
   "source": [
    "res_cached = az.run()  # Should use cache\n",
    "print(\"Cache hit for themes:\", res_cached.theme_generation.themes)"
   ]
  }
 ],
 "metadata": {
  "kernelspec": {
   "display_name": "Python 3",
   "language": "python",
   "name": "python3"
  },
  "language_info": {
   "name": "python"
  }
 },
 "nbformat": 4,
 "nbformat_minor": 5
}
